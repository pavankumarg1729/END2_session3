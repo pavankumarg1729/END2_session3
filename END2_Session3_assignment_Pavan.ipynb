{
  "nbformat": 4,
  "nbformat_minor": 0,
  "metadata": {
    "accelerator": "GPU",
    "colab": {
      "name": "END2_Session3_assignment_Pavan.ipynb",
      "provenance": [],
      "collapsed_sections": []
    },
    "kernelspec": {
      "display_name": "Python 3",
      "language": "python",
      "name": "python3"
    },
    "language_info": {
      "codemirror_mode": {
        "name": "ipython",
        "version": 3
      },
      "file_extension": ".py",
      "mimetype": "text/x-python",
      "name": "python",
      "nbconvert_exporter": "python",
      "pygments_lexer": "ipython3",
      "version": "3.8.5"
    },
    "widgets": {
      "application/vnd.jupyter.widget-state+json": {
        "826e80a039ac44b8a5b52b6e77c1e989": {
          "model_module": "@jupyter-widgets/controls",
          "model_name": "HBoxModel",
          "state": {
            "_view_name": "HBoxView",
            "_dom_classes": [],
            "_model_name": "HBoxModel",
            "_view_module": "@jupyter-widgets/controls",
            "_model_module_version": "1.5.0",
            "_view_count": null,
            "_view_module_version": "1.5.0",
            "box_style": "",
            "layout": "IPY_MODEL_8b8d19cf487d4bcebd85077a0a3bbf0b",
            "_model_module": "@jupyter-widgets/controls",
            "children": [
              "IPY_MODEL_3ae036323652481288ee19c09df60b3e",
              "IPY_MODEL_e04141e6de1a4d9fa349fa9368109b76"
            ]
          }
        },
        "8b8d19cf487d4bcebd85077a0a3bbf0b": {
          "model_module": "@jupyter-widgets/base",
          "model_name": "LayoutModel",
          "state": {
            "_view_name": "LayoutView",
            "grid_template_rows": null,
            "right": null,
            "justify_content": null,
            "_view_module": "@jupyter-widgets/base",
            "overflow": null,
            "_model_module_version": "1.2.0",
            "_view_count": null,
            "flex_flow": null,
            "width": null,
            "min_width": null,
            "border": null,
            "align_items": null,
            "bottom": null,
            "_model_module": "@jupyter-widgets/base",
            "top": null,
            "grid_column": null,
            "overflow_y": null,
            "overflow_x": null,
            "grid_auto_flow": null,
            "grid_area": null,
            "grid_template_columns": null,
            "flex": null,
            "_model_name": "LayoutModel",
            "justify_items": null,
            "grid_row": null,
            "max_height": null,
            "align_content": null,
            "visibility": null,
            "align_self": null,
            "height": null,
            "min_height": null,
            "padding": null,
            "grid_auto_rows": null,
            "grid_gap": null,
            "max_width": null,
            "order": null,
            "_view_module_version": "1.2.0",
            "grid_template_areas": null,
            "object_position": null,
            "object_fit": null,
            "grid_auto_columns": null,
            "margin": null,
            "display": null,
            "left": null
          }
        },
        "3ae036323652481288ee19c09df60b3e": {
          "model_module": "@jupyter-widgets/controls",
          "model_name": "FloatProgressModel",
          "state": {
            "_view_name": "ProgressView",
            "style": "IPY_MODEL_cf10ed7722594aad8bedf99cdc5c220f",
            "_dom_classes": [],
            "description": "",
            "_model_name": "FloatProgressModel",
            "bar_style": "success",
            "max": 9912422,
            "_view_module": "@jupyter-widgets/controls",
            "_model_module_version": "1.5.0",
            "value": 9912422,
            "_view_count": null,
            "_view_module_version": "1.5.0",
            "orientation": "horizontal",
            "min": 0,
            "description_tooltip": null,
            "_model_module": "@jupyter-widgets/controls",
            "layout": "IPY_MODEL_a4b1f39d0d874762bfca37557f86df7d"
          }
        },
        "e04141e6de1a4d9fa349fa9368109b76": {
          "model_module": "@jupyter-widgets/controls",
          "model_name": "HTMLModel",
          "state": {
            "_view_name": "HTMLView",
            "style": "IPY_MODEL_34c9516d3d8d4f018bf76bf474ca011b",
            "_dom_classes": [],
            "description": "",
            "_model_name": "HTMLModel",
            "placeholder": "​",
            "_view_module": "@jupyter-widgets/controls",
            "_model_module_version": "1.5.0",
            "value": " 9913344/? [25:26&lt;00:00, 6494.89it/s]",
            "_view_count": null,
            "_view_module_version": "1.5.0",
            "description_tooltip": null,
            "_model_module": "@jupyter-widgets/controls",
            "layout": "IPY_MODEL_ec46f0ade4584a949bda5901d135ffb9"
          }
        },
        "cf10ed7722594aad8bedf99cdc5c220f": {
          "model_module": "@jupyter-widgets/controls",
          "model_name": "ProgressStyleModel",
          "state": {
            "_view_name": "StyleView",
            "_model_name": "ProgressStyleModel",
            "description_width": "initial",
            "_view_module": "@jupyter-widgets/base",
            "_model_module_version": "1.5.0",
            "_view_count": null,
            "_view_module_version": "1.2.0",
            "bar_color": null,
            "_model_module": "@jupyter-widgets/controls"
          }
        },
        "a4b1f39d0d874762bfca37557f86df7d": {
          "model_module": "@jupyter-widgets/base",
          "model_name": "LayoutModel",
          "state": {
            "_view_name": "LayoutView",
            "grid_template_rows": null,
            "right": null,
            "justify_content": null,
            "_view_module": "@jupyter-widgets/base",
            "overflow": null,
            "_model_module_version": "1.2.0",
            "_view_count": null,
            "flex_flow": null,
            "width": null,
            "min_width": null,
            "border": null,
            "align_items": null,
            "bottom": null,
            "_model_module": "@jupyter-widgets/base",
            "top": null,
            "grid_column": null,
            "overflow_y": null,
            "overflow_x": null,
            "grid_auto_flow": null,
            "grid_area": null,
            "grid_template_columns": null,
            "flex": null,
            "_model_name": "LayoutModel",
            "justify_items": null,
            "grid_row": null,
            "max_height": null,
            "align_content": null,
            "visibility": null,
            "align_self": null,
            "height": null,
            "min_height": null,
            "padding": null,
            "grid_auto_rows": null,
            "grid_gap": null,
            "max_width": null,
            "order": null,
            "_view_module_version": "1.2.0",
            "grid_template_areas": null,
            "object_position": null,
            "object_fit": null,
            "grid_auto_columns": null,
            "margin": null,
            "display": null,
            "left": null
          }
        },
        "34c9516d3d8d4f018bf76bf474ca011b": {
          "model_module": "@jupyter-widgets/controls",
          "model_name": "DescriptionStyleModel",
          "state": {
            "_view_name": "StyleView",
            "_model_name": "DescriptionStyleModel",
            "description_width": "",
            "_view_module": "@jupyter-widgets/base",
            "_model_module_version": "1.5.0",
            "_view_count": null,
            "_view_module_version": "1.2.0",
            "_model_module": "@jupyter-widgets/controls"
          }
        },
        "ec46f0ade4584a949bda5901d135ffb9": {
          "model_module": "@jupyter-widgets/base",
          "model_name": "LayoutModel",
          "state": {
            "_view_name": "LayoutView",
            "grid_template_rows": null,
            "right": null,
            "justify_content": null,
            "_view_module": "@jupyter-widgets/base",
            "overflow": null,
            "_model_module_version": "1.2.0",
            "_view_count": null,
            "flex_flow": null,
            "width": null,
            "min_width": null,
            "border": null,
            "align_items": null,
            "bottom": null,
            "_model_module": "@jupyter-widgets/base",
            "top": null,
            "grid_column": null,
            "overflow_y": null,
            "overflow_x": null,
            "grid_auto_flow": null,
            "grid_area": null,
            "grid_template_columns": null,
            "flex": null,
            "_model_name": "LayoutModel",
            "justify_items": null,
            "grid_row": null,
            "max_height": null,
            "align_content": null,
            "visibility": null,
            "align_self": null,
            "height": null,
            "min_height": null,
            "padding": null,
            "grid_auto_rows": null,
            "grid_gap": null,
            "max_width": null,
            "order": null,
            "_view_module_version": "1.2.0",
            "grid_template_areas": null,
            "object_position": null,
            "object_fit": null,
            "grid_auto_columns": null,
            "margin": null,
            "display": null,
            "left": null
          }
        },
        "2640577552ed4027b927564a5df599a8": {
          "model_module": "@jupyter-widgets/controls",
          "model_name": "HBoxModel",
          "state": {
            "_view_name": "HBoxView",
            "_dom_classes": [],
            "_model_name": "HBoxModel",
            "_view_module": "@jupyter-widgets/controls",
            "_model_module_version": "1.5.0",
            "_view_count": null,
            "_view_module_version": "1.5.0",
            "box_style": "",
            "layout": "IPY_MODEL_d7cef4df7f094dc0ae96867282c8ff59",
            "_model_module": "@jupyter-widgets/controls",
            "children": [
              "IPY_MODEL_8e6e6f671e29420eb482aebf36055f09",
              "IPY_MODEL_734ee68ef48e4a14bcba8a9d3e0371ab"
            ]
          }
        },
        "d7cef4df7f094dc0ae96867282c8ff59": {
          "model_module": "@jupyter-widgets/base",
          "model_name": "LayoutModel",
          "state": {
            "_view_name": "LayoutView",
            "grid_template_rows": null,
            "right": null,
            "justify_content": null,
            "_view_module": "@jupyter-widgets/base",
            "overflow": null,
            "_model_module_version": "1.2.0",
            "_view_count": null,
            "flex_flow": null,
            "width": null,
            "min_width": null,
            "border": null,
            "align_items": null,
            "bottom": null,
            "_model_module": "@jupyter-widgets/base",
            "top": null,
            "grid_column": null,
            "overflow_y": null,
            "overflow_x": null,
            "grid_auto_flow": null,
            "grid_area": null,
            "grid_template_columns": null,
            "flex": null,
            "_model_name": "LayoutModel",
            "justify_items": null,
            "grid_row": null,
            "max_height": null,
            "align_content": null,
            "visibility": null,
            "align_self": null,
            "height": null,
            "min_height": null,
            "padding": null,
            "grid_auto_rows": null,
            "grid_gap": null,
            "max_width": null,
            "order": null,
            "_view_module_version": "1.2.0",
            "grid_template_areas": null,
            "object_position": null,
            "object_fit": null,
            "grid_auto_columns": null,
            "margin": null,
            "display": null,
            "left": null
          }
        },
        "8e6e6f671e29420eb482aebf36055f09": {
          "model_module": "@jupyter-widgets/controls",
          "model_name": "FloatProgressModel",
          "state": {
            "_view_name": "ProgressView",
            "style": "IPY_MODEL_ca7ec29a7c774cf9a0e030e9c69b55a8",
            "_dom_classes": [],
            "description": "",
            "_model_name": "FloatProgressModel",
            "bar_style": "success",
            "max": 28881,
            "_view_module": "@jupyter-widgets/controls",
            "_model_module_version": "1.5.0",
            "value": 28881,
            "_view_count": null,
            "_view_module_version": "1.5.0",
            "orientation": "horizontal",
            "min": 0,
            "description_tooltip": null,
            "_model_module": "@jupyter-widgets/controls",
            "layout": "IPY_MODEL_43b987bc16544c1c900331b0cd102a5a"
          }
        },
        "734ee68ef48e4a14bcba8a9d3e0371ab": {
          "model_module": "@jupyter-widgets/controls",
          "model_name": "HTMLModel",
          "state": {
            "_view_name": "HTMLView",
            "style": "IPY_MODEL_3c760ab098784bf393cd88d7f5362217",
            "_dom_classes": [],
            "description": "",
            "_model_name": "HTMLModel",
            "placeholder": "​",
            "_view_module": "@jupyter-widgets/controls",
            "_model_module_version": "1.5.0",
            "value": " 29696/? [00:45&lt;00:00, 645.75it/s]",
            "_view_count": null,
            "_view_module_version": "1.5.0",
            "description_tooltip": null,
            "_model_module": "@jupyter-widgets/controls",
            "layout": "IPY_MODEL_78e2e0a10dc84ef9a05160997d33c853"
          }
        },
        "ca7ec29a7c774cf9a0e030e9c69b55a8": {
          "model_module": "@jupyter-widgets/controls",
          "model_name": "ProgressStyleModel",
          "state": {
            "_view_name": "StyleView",
            "_model_name": "ProgressStyleModel",
            "description_width": "initial",
            "_view_module": "@jupyter-widgets/base",
            "_model_module_version": "1.5.0",
            "_view_count": null,
            "_view_module_version": "1.2.0",
            "bar_color": null,
            "_model_module": "@jupyter-widgets/controls"
          }
        },
        "43b987bc16544c1c900331b0cd102a5a": {
          "model_module": "@jupyter-widgets/base",
          "model_name": "LayoutModel",
          "state": {
            "_view_name": "LayoutView",
            "grid_template_rows": null,
            "right": null,
            "justify_content": null,
            "_view_module": "@jupyter-widgets/base",
            "overflow": null,
            "_model_module_version": "1.2.0",
            "_view_count": null,
            "flex_flow": null,
            "width": null,
            "min_width": null,
            "border": null,
            "align_items": null,
            "bottom": null,
            "_model_module": "@jupyter-widgets/base",
            "top": null,
            "grid_column": null,
            "overflow_y": null,
            "overflow_x": null,
            "grid_auto_flow": null,
            "grid_area": null,
            "grid_template_columns": null,
            "flex": null,
            "_model_name": "LayoutModel",
            "justify_items": null,
            "grid_row": null,
            "max_height": null,
            "align_content": null,
            "visibility": null,
            "align_self": null,
            "height": null,
            "min_height": null,
            "padding": null,
            "grid_auto_rows": null,
            "grid_gap": null,
            "max_width": null,
            "order": null,
            "_view_module_version": "1.2.0",
            "grid_template_areas": null,
            "object_position": null,
            "object_fit": null,
            "grid_auto_columns": null,
            "margin": null,
            "display": null,
            "left": null
          }
        },
        "3c760ab098784bf393cd88d7f5362217": {
          "model_module": "@jupyter-widgets/controls",
          "model_name": "DescriptionStyleModel",
          "state": {
            "_view_name": "StyleView",
            "_model_name": "DescriptionStyleModel",
            "description_width": "",
            "_view_module": "@jupyter-widgets/base",
            "_model_module_version": "1.5.0",
            "_view_count": null,
            "_view_module_version": "1.2.0",
            "_model_module": "@jupyter-widgets/controls"
          }
        },
        "78e2e0a10dc84ef9a05160997d33c853": {
          "model_module": "@jupyter-widgets/base",
          "model_name": "LayoutModel",
          "state": {
            "_view_name": "LayoutView",
            "grid_template_rows": null,
            "right": null,
            "justify_content": null,
            "_view_module": "@jupyter-widgets/base",
            "overflow": null,
            "_model_module_version": "1.2.0",
            "_view_count": null,
            "flex_flow": null,
            "width": null,
            "min_width": null,
            "border": null,
            "align_items": null,
            "bottom": null,
            "_model_module": "@jupyter-widgets/base",
            "top": null,
            "grid_column": null,
            "overflow_y": null,
            "overflow_x": null,
            "grid_auto_flow": null,
            "grid_area": null,
            "grid_template_columns": null,
            "flex": null,
            "_model_name": "LayoutModel",
            "justify_items": null,
            "grid_row": null,
            "max_height": null,
            "align_content": null,
            "visibility": null,
            "align_self": null,
            "height": null,
            "min_height": null,
            "padding": null,
            "grid_auto_rows": null,
            "grid_gap": null,
            "max_width": null,
            "order": null,
            "_view_module_version": "1.2.0",
            "grid_template_areas": null,
            "object_position": null,
            "object_fit": null,
            "grid_auto_columns": null,
            "margin": null,
            "display": null,
            "left": null
          }
        },
        "7ea6834a8af9409db2e4a6bb293af1f0": {
          "model_module": "@jupyter-widgets/controls",
          "model_name": "HBoxModel",
          "state": {
            "_view_name": "HBoxView",
            "_dom_classes": [],
            "_model_name": "HBoxModel",
            "_view_module": "@jupyter-widgets/controls",
            "_model_module_version": "1.5.0",
            "_view_count": null,
            "_view_module_version": "1.5.0",
            "box_style": "",
            "layout": "IPY_MODEL_826944b4e2da467f8c96b54acf835cd0",
            "_model_module": "@jupyter-widgets/controls",
            "children": [
              "IPY_MODEL_80185bec11334e08b7896422704dfe78",
              "IPY_MODEL_39bc7713854141bd9ad772ef98eebcfd"
            ]
          }
        },
        "826944b4e2da467f8c96b54acf835cd0": {
          "model_module": "@jupyter-widgets/base",
          "model_name": "LayoutModel",
          "state": {
            "_view_name": "LayoutView",
            "grid_template_rows": null,
            "right": null,
            "justify_content": null,
            "_view_module": "@jupyter-widgets/base",
            "overflow": null,
            "_model_module_version": "1.2.0",
            "_view_count": null,
            "flex_flow": null,
            "width": null,
            "min_width": null,
            "border": null,
            "align_items": null,
            "bottom": null,
            "_model_module": "@jupyter-widgets/base",
            "top": null,
            "grid_column": null,
            "overflow_y": null,
            "overflow_x": null,
            "grid_auto_flow": null,
            "grid_area": null,
            "grid_template_columns": null,
            "flex": null,
            "_model_name": "LayoutModel",
            "justify_items": null,
            "grid_row": null,
            "max_height": null,
            "align_content": null,
            "visibility": null,
            "align_self": null,
            "height": null,
            "min_height": null,
            "padding": null,
            "grid_auto_rows": null,
            "grid_gap": null,
            "max_width": null,
            "order": null,
            "_view_module_version": "1.2.0",
            "grid_template_areas": null,
            "object_position": null,
            "object_fit": null,
            "grid_auto_columns": null,
            "margin": null,
            "display": null,
            "left": null
          }
        },
        "80185bec11334e08b7896422704dfe78": {
          "model_module": "@jupyter-widgets/controls",
          "model_name": "FloatProgressModel",
          "state": {
            "_view_name": "ProgressView",
            "style": "IPY_MODEL_cbcc1fd1ea414ea3a10b48b303ec07b2",
            "_dom_classes": [],
            "description": "",
            "_model_name": "FloatProgressModel",
            "bar_style": "success",
            "max": 1648877,
            "_view_module": "@jupyter-widgets/controls",
            "_model_module_version": "1.5.0",
            "value": 1648877,
            "_view_count": null,
            "_view_module_version": "1.5.0",
            "orientation": "horizontal",
            "min": 0,
            "description_tooltip": null,
            "_model_module": "@jupyter-widgets/controls",
            "layout": "IPY_MODEL_e7da2e2661b94975b181e9c9aa74a6c2"
          }
        },
        "39bc7713854141bd9ad772ef98eebcfd": {
          "model_module": "@jupyter-widgets/controls",
          "model_name": "HTMLModel",
          "state": {
            "_view_name": "HTMLView",
            "style": "IPY_MODEL_5fe19e7bfcef480780f1006cbc023c90",
            "_dom_classes": [],
            "description": "",
            "_model_name": "HTMLModel",
            "placeholder": "​",
            "_view_module": "@jupyter-widgets/controls",
            "_model_module_version": "1.5.0",
            "value": " 1649664/? [00:45&lt;00:00, 36312.28it/s]",
            "_view_count": null,
            "_view_module_version": "1.5.0",
            "description_tooltip": null,
            "_model_module": "@jupyter-widgets/controls",
            "layout": "IPY_MODEL_4719970cbe1140e48a3f513e76a569d9"
          }
        },
        "cbcc1fd1ea414ea3a10b48b303ec07b2": {
          "model_module": "@jupyter-widgets/controls",
          "model_name": "ProgressStyleModel",
          "state": {
            "_view_name": "StyleView",
            "_model_name": "ProgressStyleModel",
            "description_width": "initial",
            "_view_module": "@jupyter-widgets/base",
            "_model_module_version": "1.5.0",
            "_view_count": null,
            "_view_module_version": "1.2.0",
            "bar_color": null,
            "_model_module": "@jupyter-widgets/controls"
          }
        },
        "e7da2e2661b94975b181e9c9aa74a6c2": {
          "model_module": "@jupyter-widgets/base",
          "model_name": "LayoutModel",
          "state": {
            "_view_name": "LayoutView",
            "grid_template_rows": null,
            "right": null,
            "justify_content": null,
            "_view_module": "@jupyter-widgets/base",
            "overflow": null,
            "_model_module_version": "1.2.0",
            "_view_count": null,
            "flex_flow": null,
            "width": null,
            "min_width": null,
            "border": null,
            "align_items": null,
            "bottom": null,
            "_model_module": "@jupyter-widgets/base",
            "top": null,
            "grid_column": null,
            "overflow_y": null,
            "overflow_x": null,
            "grid_auto_flow": null,
            "grid_area": null,
            "grid_template_columns": null,
            "flex": null,
            "_model_name": "LayoutModel",
            "justify_items": null,
            "grid_row": null,
            "max_height": null,
            "align_content": null,
            "visibility": null,
            "align_self": null,
            "height": null,
            "min_height": null,
            "padding": null,
            "grid_auto_rows": null,
            "grid_gap": null,
            "max_width": null,
            "order": null,
            "_view_module_version": "1.2.0",
            "grid_template_areas": null,
            "object_position": null,
            "object_fit": null,
            "grid_auto_columns": null,
            "margin": null,
            "display": null,
            "left": null
          }
        },
        "5fe19e7bfcef480780f1006cbc023c90": {
          "model_module": "@jupyter-widgets/controls",
          "model_name": "DescriptionStyleModel",
          "state": {
            "_view_name": "StyleView",
            "_model_name": "DescriptionStyleModel",
            "description_width": "",
            "_view_module": "@jupyter-widgets/base",
            "_model_module_version": "1.5.0",
            "_view_count": null,
            "_view_module_version": "1.2.0",
            "_model_module": "@jupyter-widgets/controls"
          }
        },
        "4719970cbe1140e48a3f513e76a569d9": {
          "model_module": "@jupyter-widgets/base",
          "model_name": "LayoutModel",
          "state": {
            "_view_name": "LayoutView",
            "grid_template_rows": null,
            "right": null,
            "justify_content": null,
            "_view_module": "@jupyter-widgets/base",
            "overflow": null,
            "_model_module_version": "1.2.0",
            "_view_count": null,
            "flex_flow": null,
            "width": null,
            "min_width": null,
            "border": null,
            "align_items": null,
            "bottom": null,
            "_model_module": "@jupyter-widgets/base",
            "top": null,
            "grid_column": null,
            "overflow_y": null,
            "overflow_x": null,
            "grid_auto_flow": null,
            "grid_area": null,
            "grid_template_columns": null,
            "flex": null,
            "_model_name": "LayoutModel",
            "justify_items": null,
            "grid_row": null,
            "max_height": null,
            "align_content": null,
            "visibility": null,
            "align_self": null,
            "height": null,
            "min_height": null,
            "padding": null,
            "grid_auto_rows": null,
            "grid_gap": null,
            "max_width": null,
            "order": null,
            "_view_module_version": "1.2.0",
            "grid_template_areas": null,
            "object_position": null,
            "object_fit": null,
            "grid_auto_columns": null,
            "margin": null,
            "display": null,
            "left": null
          }
        },
        "c814429d8fff4a23b891c3ee754190fc": {
          "model_module": "@jupyter-widgets/controls",
          "model_name": "HBoxModel",
          "state": {
            "_view_name": "HBoxView",
            "_dom_classes": [],
            "_model_name": "HBoxModel",
            "_view_module": "@jupyter-widgets/controls",
            "_model_module_version": "1.5.0",
            "_view_count": null,
            "_view_module_version": "1.5.0",
            "box_style": "",
            "layout": "IPY_MODEL_09693daba03e4d9c8980c2658f2ce832",
            "_model_module": "@jupyter-widgets/controls",
            "children": [
              "IPY_MODEL_d65dfec27b6b43a3bba4d329965be79f",
              "IPY_MODEL_9b42a02d77ab44ac927a6b72f64b0a9f"
            ]
          }
        },
        "09693daba03e4d9c8980c2658f2ce832": {
          "model_module": "@jupyter-widgets/base",
          "model_name": "LayoutModel",
          "state": {
            "_view_name": "LayoutView",
            "grid_template_rows": null,
            "right": null,
            "justify_content": null,
            "_view_module": "@jupyter-widgets/base",
            "overflow": null,
            "_model_module_version": "1.2.0",
            "_view_count": null,
            "flex_flow": null,
            "width": null,
            "min_width": null,
            "border": null,
            "align_items": null,
            "bottom": null,
            "_model_module": "@jupyter-widgets/base",
            "top": null,
            "grid_column": null,
            "overflow_y": null,
            "overflow_x": null,
            "grid_auto_flow": null,
            "grid_area": null,
            "grid_template_columns": null,
            "flex": null,
            "_model_name": "LayoutModel",
            "justify_items": null,
            "grid_row": null,
            "max_height": null,
            "align_content": null,
            "visibility": null,
            "align_self": null,
            "height": null,
            "min_height": null,
            "padding": null,
            "grid_auto_rows": null,
            "grid_gap": null,
            "max_width": null,
            "order": null,
            "_view_module_version": "1.2.0",
            "grid_template_areas": null,
            "object_position": null,
            "object_fit": null,
            "grid_auto_columns": null,
            "margin": null,
            "display": null,
            "left": null
          }
        },
        "d65dfec27b6b43a3bba4d329965be79f": {
          "model_module": "@jupyter-widgets/controls",
          "model_name": "FloatProgressModel",
          "state": {
            "_view_name": "ProgressView",
            "style": "IPY_MODEL_f726d517daa04990a5e2e02d85fce62b",
            "_dom_classes": [],
            "description": "",
            "_model_name": "FloatProgressModel",
            "bar_style": "success",
            "max": 4542,
            "_view_module": "@jupyter-widgets/controls",
            "_model_module_version": "1.5.0",
            "value": 4542,
            "_view_count": null,
            "_view_module_version": "1.5.0",
            "orientation": "horizontal",
            "min": 0,
            "description_tooltip": null,
            "_model_module": "@jupyter-widgets/controls",
            "layout": "IPY_MODEL_996f2344a9754743b2d1d3446a850eb7"
          }
        },
        "9b42a02d77ab44ac927a6b72f64b0a9f": {
          "model_module": "@jupyter-widgets/controls",
          "model_name": "HTMLModel",
          "state": {
            "_view_name": "HTMLView",
            "style": "IPY_MODEL_a2fba8eb0aec46f7a437cc38679f3ce3",
            "_dom_classes": [],
            "description": "",
            "_model_name": "HTMLModel",
            "placeholder": "​",
            "_view_module": "@jupyter-widgets/controls",
            "_model_module_version": "1.5.0",
            "value": " 5120/? [19:50&lt;00:00,  4.30it/s]",
            "_view_count": null,
            "_view_module_version": "1.5.0",
            "description_tooltip": null,
            "_model_module": "@jupyter-widgets/controls",
            "layout": "IPY_MODEL_5c4c705296804e318358bf88527abfc4"
          }
        },
        "f726d517daa04990a5e2e02d85fce62b": {
          "model_module": "@jupyter-widgets/controls",
          "model_name": "ProgressStyleModel",
          "state": {
            "_view_name": "StyleView",
            "_model_name": "ProgressStyleModel",
            "description_width": "initial",
            "_view_module": "@jupyter-widgets/base",
            "_model_module_version": "1.5.0",
            "_view_count": null,
            "_view_module_version": "1.2.0",
            "bar_color": null,
            "_model_module": "@jupyter-widgets/controls"
          }
        },
        "996f2344a9754743b2d1d3446a850eb7": {
          "model_module": "@jupyter-widgets/base",
          "model_name": "LayoutModel",
          "state": {
            "_view_name": "LayoutView",
            "grid_template_rows": null,
            "right": null,
            "justify_content": null,
            "_view_module": "@jupyter-widgets/base",
            "overflow": null,
            "_model_module_version": "1.2.0",
            "_view_count": null,
            "flex_flow": null,
            "width": null,
            "min_width": null,
            "border": null,
            "align_items": null,
            "bottom": null,
            "_model_module": "@jupyter-widgets/base",
            "top": null,
            "grid_column": null,
            "overflow_y": null,
            "overflow_x": null,
            "grid_auto_flow": null,
            "grid_area": null,
            "grid_template_columns": null,
            "flex": null,
            "_model_name": "LayoutModel",
            "justify_items": null,
            "grid_row": null,
            "max_height": null,
            "align_content": null,
            "visibility": null,
            "align_self": null,
            "height": null,
            "min_height": null,
            "padding": null,
            "grid_auto_rows": null,
            "grid_gap": null,
            "max_width": null,
            "order": null,
            "_view_module_version": "1.2.0",
            "grid_template_areas": null,
            "object_position": null,
            "object_fit": null,
            "grid_auto_columns": null,
            "margin": null,
            "display": null,
            "left": null
          }
        },
        "a2fba8eb0aec46f7a437cc38679f3ce3": {
          "model_module": "@jupyter-widgets/controls",
          "model_name": "DescriptionStyleModel",
          "state": {
            "_view_name": "StyleView",
            "_model_name": "DescriptionStyleModel",
            "description_width": "",
            "_view_module": "@jupyter-widgets/base",
            "_model_module_version": "1.5.0",
            "_view_count": null,
            "_view_module_version": "1.2.0",
            "_model_module": "@jupyter-widgets/controls"
          }
        },
        "5c4c705296804e318358bf88527abfc4": {
          "model_module": "@jupyter-widgets/base",
          "model_name": "LayoutModel",
          "state": {
            "_view_name": "LayoutView",
            "grid_template_rows": null,
            "right": null,
            "justify_content": null,
            "_view_module": "@jupyter-widgets/base",
            "overflow": null,
            "_model_module_version": "1.2.0",
            "_view_count": null,
            "flex_flow": null,
            "width": null,
            "min_width": null,
            "border": null,
            "align_items": null,
            "bottom": null,
            "_model_module": "@jupyter-widgets/base",
            "top": null,
            "grid_column": null,
            "overflow_y": null,
            "overflow_x": null,
            "grid_auto_flow": null,
            "grid_area": null,
            "grid_template_columns": null,
            "flex": null,
            "_model_name": "LayoutModel",
            "justify_items": null,
            "grid_row": null,
            "max_height": null,
            "align_content": null,
            "visibility": null,
            "align_self": null,
            "height": null,
            "min_height": null,
            "padding": null,
            "grid_auto_rows": null,
            "grid_gap": null,
            "max_width": null,
            "order": null,
            "_view_module_version": "1.2.0",
            "grid_template_areas": null,
            "object_position": null,
            "object_fit": null,
            "grid_auto_columns": null,
            "margin": null,
            "display": null,
            "left": null
          }
        }
      }
    }
  },
  "cells": [
    {
      "cell_type": "markdown",
      "metadata": {
        "id": "x2cdnumMIMzJ"
      },
      "source": [
        "\n",
        "# Implementing a neural network which takes MNIST data as input along with a random integer from 0 to 9 with Mnist label as output and also sum of random number and Mnist label in the output\n",
        "\n",
        "![unnamed.jpg](data:image/jpeg;base64,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)\n",
        "\n"
      ]
    },
    {
      "cell_type": "code",
      "metadata": {
        "id": "eFHqwtCyG8BG"
      },
      "source": [
        "\n",
        "import torch\n",
        "from torch import nn\n",
        "import torchvision # provide access to datasets, models, transforms, utils, etc\n",
        "import torchvision.transforms as transforms\n",
        "torch.manual_seed(50)\n",
        "from torch.nn import functional as F\n",
        "from torchvision.datasets import MNIST\n",
        "from typing import Optional, Tuple, Any\n",
        "torch.set_grad_enabled(True) \n",
        "import torch.nn.functional as F\n",
        "import torch.nn as nn\n",
        "import torch.optim as optim\n",
        "import numpy as np\n",
        "\n"
      ],
      "execution_count": 7,
      "outputs": []
    },
    {
      "cell_type": "code",
      "metadata": {
        "id": "xc9OOFUsaQxI"
      },
      "source": [
        "\n",
        "class MNISTRandAdder(MNIST):\n",
        "    \"\"\"\n",
        "    Data merging - MNIST and random number - \n",
        "    Add a random number along with the mnist image, and create a new target which is sum of the mnist image's target and the random number\n",
        "    For example: [MNIST Image for 4], 5 => 4, 9 (labels)\n",
        "\n",
        "    \"\"\"\n",
        "\n",
        "    def __init__( self, *args, **kwargs) -> None:\n",
        "      \n",
        "      super(MNISTRandAdder, self).__init__(*args, **kwargs)\n",
        "\n",
        "    def __getitem__(self, index: int) -> Tuple[Any, Any]:\n",
        "      \n",
        "      img, target = super(self.__class__, self).__getitem__(index)\n",
        "      \n",
        "      random_number = np.random.randint(low=0, high=10)\n",
        "\n",
        "      return (img, random_number), (target, target + random_number)"
      ],
      "execution_count": 8,
      "outputs": []
    },
    {
      "cell_type": "code",
      "metadata": {
        "colab": {
          "base_uri": "https://localhost:8080/",
          "height": 587,
          "referenced_widgets": [
            "826e80a039ac44b8a5b52b6e77c1e989",
            "8b8d19cf487d4bcebd85077a0a3bbf0b",
            "3ae036323652481288ee19c09df60b3e",
            "e04141e6de1a4d9fa349fa9368109b76",
            "cf10ed7722594aad8bedf99cdc5c220f",
            "a4b1f39d0d874762bfca37557f86df7d",
            "34c9516d3d8d4f018bf76bf474ca011b",
            "ec46f0ade4584a949bda5901d135ffb9",
            "2640577552ed4027b927564a5df599a8",
            "d7cef4df7f094dc0ae96867282c8ff59",
            "8e6e6f671e29420eb482aebf36055f09",
            "734ee68ef48e4a14bcba8a9d3e0371ab",
            "ca7ec29a7c774cf9a0e030e9c69b55a8",
            "43b987bc16544c1c900331b0cd102a5a",
            "3c760ab098784bf393cd88d7f5362217",
            "78e2e0a10dc84ef9a05160997d33c853",
            "7ea6834a8af9409db2e4a6bb293af1f0",
            "826944b4e2da467f8c96b54acf835cd0",
            "80185bec11334e08b7896422704dfe78",
            "39bc7713854141bd9ad772ef98eebcfd",
            "cbcc1fd1ea414ea3a10b48b303ec07b2",
            "e7da2e2661b94975b181e9c9aa74a6c2",
            "5fe19e7bfcef480780f1006cbc023c90",
            "4719970cbe1140e48a3f513e76a569d9",
            "c814429d8fff4a23b891c3ee754190fc",
            "09693daba03e4d9c8980c2658f2ce832",
            "d65dfec27b6b43a3bba4d329965be79f",
            "9b42a02d77ab44ac927a6b72f64b0a9f",
            "f726d517daa04990a5e2e02d85fce62b",
            "996f2344a9754743b2d1d3446a850eb7",
            "a2fba8eb0aec46f7a437cc38679f3ce3",
            "5c4c705296804e318358bf88527abfc4"
          ]
        },
        "id": "7Eerlo0qJLAD",
        "outputId": "8c200b14-2a24-4f59-8221-c2450bbad0be"
      },
      "source": [
        "# Load data with modified MNIST data class\n",
        "\n",
        "train_set = MNISTRandAdder(\n",
        "    root='./data'\n",
        "    ,train=True\n",
        "    ,download=True\n",
        "    ,transform=transforms.Compose([\n",
        "        transforms.ToTensor()\n",
        "    ])\n",
        ")\n",
        "\n"
      ],
      "execution_count": 5,
      "outputs": [
        {
          "output_type": "stream",
          "text": [
            "Downloading http://yann.lecun.com/exdb/mnist/train-images-idx3-ubyte.gz\n",
            "Downloading http://yann.lecun.com/exdb/mnist/train-images-idx3-ubyte.gz to ./data/MNISTRandAdder/raw/train-images-idx3-ubyte.gz\n"
          ],
          "name": "stdout"
        },
        {
          "output_type": "display_data",
          "data": {
            "application/vnd.jupyter.widget-view+json": {
              "model_id": "826e80a039ac44b8a5b52b6e77c1e989",
              "version_minor": 0,
              "version_major": 2
            },
            "text/plain": [
              "HBox(children=(FloatProgress(value=0.0, max=9912422.0), HTML(value='')))"
            ]
          },
          "metadata": {
            "tags": []
          }
        },
        {
          "output_type": "stream",
          "text": [
            "\n",
            "Extracting ./data/MNISTRandAdder/raw/train-images-idx3-ubyte.gz to ./data/MNISTRandAdder/raw\n",
            "\n",
            "Downloading http://yann.lecun.com/exdb/mnist/train-labels-idx1-ubyte.gz\n",
            "Downloading http://yann.lecun.com/exdb/mnist/train-labels-idx1-ubyte.gz to ./data/MNISTRandAdder/raw/train-labels-idx1-ubyte.gz\n"
          ],
          "name": "stdout"
        },
        {
          "output_type": "display_data",
          "data": {
            "application/vnd.jupyter.widget-view+json": {
              "model_id": "2640577552ed4027b927564a5df599a8",
              "version_minor": 0,
              "version_major": 2
            },
            "text/plain": [
              "HBox(children=(FloatProgress(value=0.0, max=28881.0), HTML(value='')))"
            ]
          },
          "metadata": {
            "tags": []
          }
        },
        {
          "output_type": "stream",
          "text": [
            "\n",
            "Extracting ./data/MNISTRandAdder/raw/train-labels-idx1-ubyte.gz to ./data/MNISTRandAdder/raw\n",
            "\n",
            "Downloading http://yann.lecun.com/exdb/mnist/t10k-images-idx3-ubyte.gz\n",
            "Downloading http://yann.lecun.com/exdb/mnist/t10k-images-idx3-ubyte.gz to ./data/MNISTRandAdder/raw/t10k-images-idx3-ubyte.gz\n"
          ],
          "name": "stdout"
        },
        {
          "output_type": "display_data",
          "data": {
            "application/vnd.jupyter.widget-view+json": {
              "model_id": "7ea6834a8af9409db2e4a6bb293af1f0",
              "version_minor": 0,
              "version_major": 2
            },
            "text/plain": [
              "HBox(children=(FloatProgress(value=0.0, max=1648877.0), HTML(value='')))"
            ]
          },
          "metadata": {
            "tags": []
          }
        },
        {
          "output_type": "stream",
          "text": [
            "\n",
            "Extracting ./data/MNISTRandAdder/raw/t10k-images-idx3-ubyte.gz to ./data/MNISTRandAdder/raw\n",
            "\n",
            "Downloading http://yann.lecun.com/exdb/mnist/t10k-labels-idx1-ubyte.gz\n",
            "Downloading http://yann.lecun.com/exdb/mnist/t10k-labels-idx1-ubyte.gz to ./data/MNISTRandAdder/raw/t10k-labels-idx1-ubyte.gz\n"
          ],
          "name": "stdout"
        },
        {
          "output_type": "display_data",
          "data": {
            "application/vnd.jupyter.widget-view+json": {
              "model_id": "c814429d8fff4a23b891c3ee754190fc",
              "version_minor": 0,
              "version_major": 2
            },
            "text/plain": [
              "HBox(children=(FloatProgress(value=0.0, max=4542.0), HTML(value='')))"
            ]
          },
          "metadata": {
            "tags": []
          }
        },
        {
          "output_type": "stream",
          "text": [
            "\n",
            "Extracting ./data/MNISTRandAdder/raw/t10k-labels-idx1-ubyte.gz to ./data/MNISTRandAdder/raw\n",
            "\n",
            "Processing...\n",
            "Done!\n"
          ],
          "name": "stdout"
        },
        {
          "output_type": "stream",
          "text": [
            "/usr/local/lib/python3.7/dist-packages/torchvision/datasets/mnist.py:502: UserWarning: The given NumPy array is not writeable, and PyTorch does not support non-writeable tensors. This means you can write to the underlying (supposedly non-writeable) NumPy array using the tensor. You may want to copy the array to protect its data or make it writeable before converting it to a tensor. This type of warning will be suppressed for the rest of this program. (Triggered internally at  /pytorch/torch/csrc/utils/tensor_numpy.cpp:143.)\n",
            "  return torch.from_numpy(parsed.astype(m[2], copy=False)).view(*s)\n"
          ],
          "name": "stderr"
        }
      ]
    },
    {
      "cell_type": "code",
      "metadata": {
        "colab": {
          "base_uri": "https://localhost:8080/"
        },
        "id": "B5iSBs8lt9ek",
        "outputId": "c5bbf684-7d7c-436d-b95d-ba3a67ee35da"
      },
      "source": [
        "# There are 4 tensors in the train_set now\n",
        "# 1 - the mnist image tensor\n",
        "# 2 - the mnist label tensor\n",
        "# 3 - the random number tensor\n",
        "# 4 - the sum of random number and mnist label tensor\n",
        "\n",
        "train_loader_check = torch.utils.data.DataLoader(train_set, batch_size=1)\n",
        "print(next(iter(train_loader_check))[0][0].shape)\n",
        "print(next(iter(train_loader_check))[0][1].shape)\n",
        "print(next(iter(train_loader_check))[1][0].shape)\n",
        "print(next(iter(train_loader_check))[1][1].shape)\n",
        "print(next(iter(train_loader_check)))\n"
      ],
      "execution_count": 48,
      "outputs": [
        {
          "output_type": "stream",
          "text": [
            "torch.Size([1, 1, 28, 28])\n",
            "torch.Size([1])\n",
            "torch.Size([1])\n",
            "torch.Size([1])\n",
            "[[tensor([[[[0.0000, 0.0000, 0.0000, 0.0000, 0.0000, 0.0000, 0.0000, 0.0000,\n",
            "           0.0000, 0.0000, 0.0000, 0.0000, 0.0000, 0.0000, 0.0000, 0.0000,\n",
            "           0.0000, 0.0000, 0.0000, 0.0000, 0.0000, 0.0000, 0.0000, 0.0000,\n",
            "           0.0000, 0.0000, 0.0000, 0.0000],\n",
            "          [0.0000, 0.0000, 0.0000, 0.0000, 0.0000, 0.0000, 0.0000, 0.0000,\n",
            "           0.0000, 0.0000, 0.0000, 0.0000, 0.0000, 0.0000, 0.0000, 0.0000,\n",
            "           0.0000, 0.0000, 0.0000, 0.0000, 0.0000, 0.0000, 0.0000, 0.0000,\n",
            "           0.0000, 0.0000, 0.0000, 0.0000],\n",
            "          [0.0000, 0.0000, 0.0000, 0.0000, 0.0000, 0.0000, 0.0000, 0.0000,\n",
            "           0.0000, 0.0000, 0.0000, 0.0000, 0.0000, 0.0000, 0.0000, 0.0000,\n",
            "           0.0000, 0.0000, 0.0000, 0.0000, 0.0000, 0.0000, 0.0000, 0.0000,\n",
            "           0.0000, 0.0000, 0.0000, 0.0000],\n",
            "          [0.0000, 0.0000, 0.0000, 0.0000, 0.0000, 0.0000, 0.0000, 0.0000,\n",
            "           0.0000, 0.0000, 0.0000, 0.0000, 0.0000, 0.0000, 0.0000, 0.0000,\n",
            "           0.0000, 0.0000, 0.0000, 0.0000, 0.0000, 0.0000, 0.0000, 0.0000,\n",
            "           0.0000, 0.0000, 0.0000, 0.0000],\n",
            "          [0.0000, 0.0000, 0.0000, 0.0000, 0.0000, 0.0000, 0.0000, 0.0000,\n",
            "           0.0000, 0.0000, 0.0000, 0.0000, 0.0000, 0.0000, 0.0000, 0.0000,\n",
            "           0.0000, 0.0000, 0.0000, 0.0000, 0.0000, 0.0000, 0.0000, 0.0000,\n",
            "           0.0000, 0.0000, 0.0000, 0.0000],\n",
            "          [0.0000, 0.0000, 0.0000, 0.0000, 0.0000, 0.0000, 0.0000, 0.0000,\n",
            "           0.0000, 0.0000, 0.0000, 0.0000, 0.0118, 0.0706, 0.0706, 0.0706,\n",
            "           0.4941, 0.5333, 0.6863, 0.1020, 0.6510, 1.0000, 0.9686, 0.4980,\n",
            "           0.0000, 0.0000, 0.0000, 0.0000],\n",
            "          [0.0000, 0.0000, 0.0000, 0.0000, 0.0000, 0.0000, 0.0000, 0.0000,\n",
            "           0.1176, 0.1412, 0.3686, 0.6039, 0.6667, 0.9922, 0.9922, 0.9922,\n",
            "           0.9922, 0.9922, 0.8824, 0.6745, 0.9922, 0.9490, 0.7647, 0.2510,\n",
            "           0.0000, 0.0000, 0.0000, 0.0000],\n",
            "          [0.0000, 0.0000, 0.0000, 0.0000, 0.0000, 0.0000, 0.0000, 0.1922,\n",
            "           0.9333, 0.9922, 0.9922, 0.9922, 0.9922, 0.9922, 0.9922, 0.9922,\n",
            "           0.9922, 0.9843, 0.3647, 0.3216, 0.3216, 0.2196, 0.1529, 0.0000,\n",
            "           0.0000, 0.0000, 0.0000, 0.0000],\n",
            "          [0.0000, 0.0000, 0.0000, 0.0000, 0.0000, 0.0000, 0.0000, 0.0706,\n",
            "           0.8588, 0.9922, 0.9922, 0.9922, 0.9922, 0.9922, 0.7765, 0.7137,\n",
            "           0.9686, 0.9451, 0.0000, 0.0000, 0.0000, 0.0000, 0.0000, 0.0000,\n",
            "           0.0000, 0.0000, 0.0000, 0.0000],\n",
            "          [0.0000, 0.0000, 0.0000, 0.0000, 0.0000, 0.0000, 0.0000, 0.0000,\n",
            "           0.3137, 0.6118, 0.4196, 0.9922, 0.9922, 0.8039, 0.0431, 0.0000,\n",
            "           0.1686, 0.6039, 0.0000, 0.0000, 0.0000, 0.0000, 0.0000, 0.0000,\n",
            "           0.0000, 0.0000, 0.0000, 0.0000],\n",
            "          [0.0000, 0.0000, 0.0000, 0.0000, 0.0000, 0.0000, 0.0000, 0.0000,\n",
            "           0.0000, 0.0549, 0.0039, 0.6039, 0.9922, 0.3529, 0.0000, 0.0000,\n",
            "           0.0000, 0.0000, 0.0000, 0.0000, 0.0000, 0.0000, 0.0000, 0.0000,\n",
            "           0.0000, 0.0000, 0.0000, 0.0000],\n",
            "          [0.0000, 0.0000, 0.0000, 0.0000, 0.0000, 0.0000, 0.0000, 0.0000,\n",
            "           0.0000, 0.0000, 0.0000, 0.5451, 0.9922, 0.7451, 0.0078, 0.0000,\n",
            "           0.0000, 0.0000, 0.0000, 0.0000, 0.0000, 0.0000, 0.0000, 0.0000,\n",
            "           0.0000, 0.0000, 0.0000, 0.0000],\n",
            "          [0.0000, 0.0000, 0.0000, 0.0000, 0.0000, 0.0000, 0.0000, 0.0000,\n",
            "           0.0000, 0.0000, 0.0000, 0.0431, 0.7451, 0.9922, 0.2745, 0.0000,\n",
            "           0.0000, 0.0000, 0.0000, 0.0000, 0.0000, 0.0000, 0.0000, 0.0000,\n",
            "           0.0000, 0.0000, 0.0000, 0.0000],\n",
            "          [0.0000, 0.0000, 0.0000, 0.0000, 0.0000, 0.0000, 0.0000, 0.0000,\n",
            "           0.0000, 0.0000, 0.0000, 0.0000, 0.1373, 0.9451, 0.8824, 0.6275,\n",
            "           0.4235, 0.0039, 0.0000, 0.0000, 0.0000, 0.0000, 0.0000, 0.0000,\n",
            "           0.0000, 0.0000, 0.0000, 0.0000],\n",
            "          [0.0000, 0.0000, 0.0000, 0.0000, 0.0000, 0.0000, 0.0000, 0.0000,\n",
            "           0.0000, 0.0000, 0.0000, 0.0000, 0.0000, 0.3176, 0.9412, 0.9922,\n",
            "           0.9922, 0.4667, 0.0980, 0.0000, 0.0000, 0.0000, 0.0000, 0.0000,\n",
            "           0.0000, 0.0000, 0.0000, 0.0000],\n",
            "          [0.0000, 0.0000, 0.0000, 0.0000, 0.0000, 0.0000, 0.0000, 0.0000,\n",
            "           0.0000, 0.0000, 0.0000, 0.0000, 0.0000, 0.0000, 0.1765, 0.7294,\n",
            "           0.9922, 0.9922, 0.5882, 0.1059, 0.0000, 0.0000, 0.0000, 0.0000,\n",
            "           0.0000, 0.0000, 0.0000, 0.0000],\n",
            "          [0.0000, 0.0000, 0.0000, 0.0000, 0.0000, 0.0000, 0.0000, 0.0000,\n",
            "           0.0000, 0.0000, 0.0000, 0.0000, 0.0000, 0.0000, 0.0000, 0.0627,\n",
            "           0.3647, 0.9882, 0.9922, 0.7333, 0.0000, 0.0000, 0.0000, 0.0000,\n",
            "           0.0000, 0.0000, 0.0000, 0.0000],\n",
            "          [0.0000, 0.0000, 0.0000, 0.0000, 0.0000, 0.0000, 0.0000, 0.0000,\n",
            "           0.0000, 0.0000, 0.0000, 0.0000, 0.0000, 0.0000, 0.0000, 0.0000,\n",
            "           0.0000, 0.9765, 0.9922, 0.9765, 0.2510, 0.0000, 0.0000, 0.0000,\n",
            "           0.0000, 0.0000, 0.0000, 0.0000],\n",
            "          [0.0000, 0.0000, 0.0000, 0.0000, 0.0000, 0.0000, 0.0000, 0.0000,\n",
            "           0.0000, 0.0000, 0.0000, 0.0000, 0.0000, 0.0000, 0.1804, 0.5098,\n",
            "           0.7176, 0.9922, 0.9922, 0.8118, 0.0078, 0.0000, 0.0000, 0.0000,\n",
            "           0.0000, 0.0000, 0.0000, 0.0000],\n",
            "          [0.0000, 0.0000, 0.0000, 0.0000, 0.0000, 0.0000, 0.0000, 0.0000,\n",
            "           0.0000, 0.0000, 0.0000, 0.0000, 0.1529, 0.5804, 0.8980, 0.9922,\n",
            "           0.9922, 0.9922, 0.9804, 0.7137, 0.0000, 0.0000, 0.0000, 0.0000,\n",
            "           0.0000, 0.0000, 0.0000, 0.0000],\n",
            "          [0.0000, 0.0000, 0.0000, 0.0000, 0.0000, 0.0000, 0.0000, 0.0000,\n",
            "           0.0000, 0.0000, 0.0941, 0.4471, 0.8667, 0.9922, 0.9922, 0.9922,\n",
            "           0.9922, 0.7882, 0.3059, 0.0000, 0.0000, 0.0000, 0.0000, 0.0000,\n",
            "           0.0000, 0.0000, 0.0000, 0.0000],\n",
            "          [0.0000, 0.0000, 0.0000, 0.0000, 0.0000, 0.0000, 0.0000, 0.0000,\n",
            "           0.0902, 0.2588, 0.8353, 0.9922, 0.9922, 0.9922, 0.9922, 0.7765,\n",
            "           0.3176, 0.0078, 0.0000, 0.0000, 0.0000, 0.0000, 0.0000, 0.0000,\n",
            "           0.0000, 0.0000, 0.0000, 0.0000],\n",
            "          [0.0000, 0.0000, 0.0000, 0.0000, 0.0000, 0.0000, 0.0706, 0.6706,\n",
            "           0.8588, 0.9922, 0.9922, 0.9922, 0.9922, 0.7647, 0.3137, 0.0353,\n",
            "           0.0000, 0.0000, 0.0000, 0.0000, 0.0000, 0.0000, 0.0000, 0.0000,\n",
            "           0.0000, 0.0000, 0.0000, 0.0000],\n",
            "          [0.0000, 0.0000, 0.0000, 0.0000, 0.2157, 0.6745, 0.8863, 0.9922,\n",
            "           0.9922, 0.9922, 0.9922, 0.9569, 0.5216, 0.0431, 0.0000, 0.0000,\n",
            "           0.0000, 0.0000, 0.0000, 0.0000, 0.0000, 0.0000, 0.0000, 0.0000,\n",
            "           0.0000, 0.0000, 0.0000, 0.0000],\n",
            "          [0.0000, 0.0000, 0.0000, 0.0000, 0.5333, 0.9922, 0.9922, 0.9922,\n",
            "           0.8314, 0.5294, 0.5176, 0.0627, 0.0000, 0.0000, 0.0000, 0.0000,\n",
            "           0.0000, 0.0000, 0.0000, 0.0000, 0.0000, 0.0000, 0.0000, 0.0000,\n",
            "           0.0000, 0.0000, 0.0000, 0.0000],\n",
            "          [0.0000, 0.0000, 0.0000, 0.0000, 0.0000, 0.0000, 0.0000, 0.0000,\n",
            "           0.0000, 0.0000, 0.0000, 0.0000, 0.0000, 0.0000, 0.0000, 0.0000,\n",
            "           0.0000, 0.0000, 0.0000, 0.0000, 0.0000, 0.0000, 0.0000, 0.0000,\n",
            "           0.0000, 0.0000, 0.0000, 0.0000],\n",
            "          [0.0000, 0.0000, 0.0000, 0.0000, 0.0000, 0.0000, 0.0000, 0.0000,\n",
            "           0.0000, 0.0000, 0.0000, 0.0000, 0.0000, 0.0000, 0.0000, 0.0000,\n",
            "           0.0000, 0.0000, 0.0000, 0.0000, 0.0000, 0.0000, 0.0000, 0.0000,\n",
            "           0.0000, 0.0000, 0.0000, 0.0000],\n",
            "          [0.0000, 0.0000, 0.0000, 0.0000, 0.0000, 0.0000, 0.0000, 0.0000,\n",
            "           0.0000, 0.0000, 0.0000, 0.0000, 0.0000, 0.0000, 0.0000, 0.0000,\n",
            "           0.0000, 0.0000, 0.0000, 0.0000, 0.0000, 0.0000, 0.0000, 0.0000,\n",
            "           0.0000, 0.0000, 0.0000, 0.0000]]]]), tensor([9])], [tensor([5]), tensor([14])]]\n"
          ],
          "name": "stdout"
        }
      ]
    },
    {
      "cell_type": "markdown",
      "metadata": {
        "id": "HNqNbHriLWc3"
      },
      "source": [
        "# Let's build a network\n",
        "\n",
        "Below is the basic structure of a Model"
      ]
    },
    {
      "cell_type": "code",
      "metadata": {
        "id": "KeQ-T8PZe7_U"
      },
      "source": [
        "class Network_mnist(nn.Module):\n",
        "    \"\"\"\n",
        "    A Basic model for MNIST Digit classification\n",
        "    INPUT: 1x28x28\n",
        "    OUTPUT: 20\n",
        "    Avoding Drop outs as they are patented __/:(\\__\n",
        "    \"\"\"\n",
        "    def __init__(self):\n",
        "        super(__class__, self).__init__()\n",
        "\n",
        "        dropout_value = 0.1\n",
        "\n",
        "        # Input Block\n",
        "        self.convblock1 = nn.Sequential(\n",
        "            nn.Conv2d(in_channels=1, out_channels=8, kernel_size=(3, 3), padding=0, bias=False),\n",
        "            nn.ReLU(),\n",
        "            nn.BatchNorm2d(8)\n",
        "            ) # output_size = 26\n",
        "\n",
        "        # CONVOLUTION BLOCK 1\n",
        "        self.convblock2 = nn.Sequential(\n",
        "            nn.Conv2d(in_channels=8, out_channels=16, kernel_size=(3, 3), padding=0, bias=False),\n",
        "            nn.ReLU(),\n",
        "            nn.BatchNorm2d(16)\n",
        "            \n",
        "        ) # output_size = 24\n",
        "\n",
        "        # CONVOLUTION BLOCK 2\n",
        "        self.convblock3 = nn.Sequential(\n",
        "            nn.Conv2d(in_channels=16, out_channels=32, kernel_size=(3, 3), padding=0, bias=False),\n",
        "            nn.ReLU(),            \n",
        "            nn.BatchNorm2d(32)\n",
        "            \n",
        "        ) # output_size = 22\n",
        "        self.convblock4 = nn.Sequential(\n",
        "            nn.Conv2d(in_channels=32, out_channels=32, kernel_size=(3, 3), padding=0, bias=False),\n",
        "            nn.ReLU(),            \n",
        "            nn.BatchNorm2d(32)\n",
        "            \n",
        "        ) # output_size = 20\n",
        "        self.convblock5 = nn.Sequential(\n",
        "            nn.Conv2d(in_channels=32, out_channels=32, kernel_size=(3, 3), padding=0, bias=False),\n",
        "            nn.ReLU(),            \n",
        "            nn.BatchNorm2d(32)\n",
        "            \n",
        "        ) # output_size = 18\n",
        "        self.pool1 = nn.MaxPool2d(2, 2) # output_size = 9\n",
        "\n",
        "        # OUTPUT BLOCK\n",
        "        self.gap = nn.Sequential(\n",
        "            nn.AvgPool2d(kernel_size=9)\n",
        "        ) # output_size = 1\n",
        "\n",
        "        self.convblock6 = nn.Sequential(\n",
        "            nn.Conv2d(in_channels=32, out_channels=20, kernel_size=(1, 1), padding=0, bias=False),\n",
        "            nn.BatchNorm2d(20),\n",
        "            nn.ReLU()\n",
        "            \n",
        "        )\n",
        "\n",
        "        self.dropout = nn.Dropout(dropout_value)\n",
        "\n",
        "    def forward(self, t):\n",
        "        t = self.convblock1(t)\n",
        "        t = self.convblock2(t)\n",
        "        t = self.convblock3(t)\n",
        "        t = self.convblock4(t)\n",
        "        t = self.convblock5(t)\n",
        "        t = self.pool1(t)\n",
        "        t = self.gap(t)        \n",
        "        t = self.convblock6(t)\n",
        "\n",
        "        t = t.view(-1, 20)\n",
        "\n",
        "        return t"
      ],
      "execution_count": 29,
      "outputs": []
    },
    {
      "cell_type": "code",
      "metadata": {
        "id": "x8K7G0IUaQxL"
      },
      "source": [
        "# New class to merge MNIST and random number adder network\n",
        "# Treat the output of random number addition as 19 classes (sum of 0 to 9 - has minimum of 0 and maximum of 18 - which is 19 classes)\n",
        "# Using cross entropy loss function for both problems\n",
        "# Treating both problems as multi class classification\n",
        "# MNIST - problem - 10 classes\n",
        "# Random number addition problem - 19 classes\n",
        "# Encode random number into 10 digit binary class using one hot encoding \n",
        "\n",
        "class Network_mnist_adder(nn.Module):\n",
        "    def __init__(self):\n",
        "        super().__init__()\n",
        "        \n",
        "        self.mnist_base = Network_mnist()\n",
        "        \n",
        "        self.prefinal_layer1 = nn.Sequential(\n",
        "            nn.Linear(in_features=30, out_features=60, bias=False),\n",
        "            nn.BatchNorm1d(60),\n",
        "            nn.ReLU(),\n",
        "            \n",
        "        )\n",
        "        \n",
        "        self.prefinal_layer2 = nn.Sequential(\n",
        "            nn.Linear(in_features=60, out_features=60, bias=False),\n",
        "            nn.BatchNorm1d(60),\n",
        "            nn.ReLU(),\n",
        "        )\n",
        "\n",
        "        # IN: 60 ; OUT: 10\n",
        "        self.mnist_final_layer = nn.Sequential(\n",
        "            nn.Linear(in_features=60, out_features=10, bias=False),\n",
        "        )\n",
        "\n",
        "        # IN: 60 ; OUT 19 (sum 0 to 18 - total 19 output classes)\n",
        "        self.adder_final_layer = nn.Sequential(\n",
        "            nn.Linear(in_features=60, out_features=19, bias=False)\n",
        "        )\n",
        "\n",
        "\n",
        "    def forward(self, mnist_img,rand_num):\n",
        "        \n",
        "        rand_num = F.one_hot(rand_num, num_classes=10) # Random number generated between 0 and 9 so create one hot encoding with 10 classes\n",
        "        \n",
        "        mnist_embed = self.mnist_base(mnist_img)\n",
        "        \n",
        "        ccat = torch.cat([mnist_embed, rand_num], dim=-1) # Merge output of MNIST classification and random number input\n",
        "        \n",
        "        pre_out = self.prefinal_layer1(ccat)\n",
        "        pre_out = self.prefinal_layer2(pre_out)\n",
        "\n",
        "        mnist_out = self.mnist_final_layer(pre_out)       # Use mnist_final layer for mnist classification\n",
        "        adder_out = self.adder_final_layer(pre_out)       # Use adder_final layer for random number addition classification\n",
        "        \n",
        "       \n",
        "        return mnist_out, adder_out"
      ],
      "execution_count": 10,
      "outputs": []
    },
    {
      "cell_type": "code",
      "metadata": {
        "id": "JO9IfdswWHSO"
      },
      "source": [
        "def get_num_correct(preds, labels):\n",
        "  return preds.argmax(dim=1).eq(labels).sum().item()"
      ],
      "execution_count": 11,
      "outputs": []
    },
    {
      "cell_type": "code",
      "metadata": {
        "colab": {
          "base_uri": "https://localhost:8080/"
        },
        "id": "kaljVYTTgc2p",
        "outputId": "89c0221a-4893-44d1-c259-7711a991ec44"
      },
      "source": [
        "len(train_set)"
      ],
      "execution_count": 12,
      "outputs": [
        {
          "output_type": "execute_result",
          "data": {
            "text/plain": [
              "60000"
            ]
          },
          "metadata": {
            "tags": []
          },
          "execution_count": 12
        }
      ]
    },
    {
      "cell_type": "code",
      "metadata": {
        "colab": {
          "base_uri": "https://localhost:8080/"
        },
        "id": "Ygzi9gyCQLoe",
        "outputId": "81f4a5bd-82b0-4b2d-9563-9b43018aca4a"
      },
      "source": [
        "torch.manual_seed(50)\n",
        "\n",
        "network = Network_mnist_adder()\n",
        "train_loader = torch.utils.data.DataLoader(train_set, batch_size=45)\n",
        "optimizer = optim.Adam(network.parameters(), lr=0.01)\n",
        "\n",
        "for epoch in range(15):\n",
        "\n",
        "    cumm_total_loss = 0\n",
        "    total_correct_mnist = 0\n",
        "    total_correct_rand = 0\n",
        "\n",
        "    for batch in train_loader: # Get Batch\n",
        "        (mnist_img, rand_num), (mnist_y, adder_y) = batch \n",
        "      \n",
        "        \n",
        "        mnist_pred, adder_pred = network(mnist_img, rand_num)\n",
        "        \n",
        "        mnist_loss = F.cross_entropy(mnist_pred, mnist_y) # calculate loss for MNIST data classification\n",
        "        adder_loss = F.cross_entropy(adder_pred, adder_y) # calculate loss for random number addition classification\n",
        "        \n",
        "        total_loss = mnist_loss+adder_loss                # adding both losses to get total loss\n",
        "        \n",
        "        optimizer.zero_grad()\n",
        "        total_loss.backward() # Calculate Gradients\n",
        "        optimizer.step() # Update Weights\n",
        "\n",
        "        cumm_total_loss += total_loss.item()\n",
        "\n",
        "        total_correct_mnist += get_num_correct(mnist_pred, mnist_y)\n",
        "        total_correct_rand += get_num_correct(adder_pred, adder_y)\n",
        "        \n",
        "\n",
        "    print(\n",
        "        \"epoch\", epoch, \n",
        "        \"total_correct_mnist:\", total_correct_mnist,\n",
        "        \"total_correct_rand:\", total_correct_rand,\n",
        "        \"loss:\", cumm_total_loss,\n",
        "        \"accuracy_mnist\", total_correct_mnist/len(train_set)*100,\n",
        "        \"accuracy_rand\",  total_correct_rand/len(train_set)*100\n",
        "    )"
      ],
      "execution_count": 30,
      "outputs": [
        {
          "output_type": "stream",
          "text": [
            "epoch 0 total_correct_mnist: 54837 total_correct_rand: 51499 loss: 1024.9952298458666 accuracy_mnist 91.39500000000001 accuracy_rand 85.83166666666666\n",
            "epoch 1 total_correct_mnist: 57882 total_correct_rand: 57591 loss: 369.4156039985828 accuracy_mnist 96.47 accuracy_rand 95.985\n",
            "epoch 2 total_correct_mnist: 58299 total_correct_rand: 58072 loss: 288.5003931806423 accuracy_mnist 97.165 accuracy_rand 96.78666666666666\n",
            "epoch 3 total_correct_mnist: 58595 total_correct_rand: 58361 loss: 241.3175893544685 accuracy_mnist 97.65833333333333 accuracy_rand 97.26833333333333\n",
            "epoch 4 total_correct_mnist: 58766 total_correct_rand: 58561 loss: 214.06224502134137 accuracy_mnist 97.94333333333334 accuracy_rand 97.60166666666666\n",
            "epoch 5 total_correct_mnist: 58906 total_correct_rand: 58716 loss: 190.43509793048725 accuracy_mnist 98.17666666666666 accuracy_rand 97.86\n",
            "epoch 6 total_correct_mnist: 58993 total_correct_rand: 58833 loss: 172.46417620457942 accuracy_mnist 98.32166666666666 accuracy_rand 98.055\n",
            "epoch 7 total_correct_mnist: 59060 total_correct_rand: 58897 loss: 163.3518563870457 accuracy_mnist 98.43333333333332 accuracy_rand 98.16166666666668\n",
            "epoch 8 total_correct_mnist: 59148 total_correct_rand: 59013 loss: 144.2755369633669 accuracy_mnist 98.58 accuracy_rand 98.355\n",
            "epoch 9 total_correct_mnist: 59207 total_correct_rand: 59090 loss: 131.493433044001 accuracy_mnist 98.67833333333334 accuracy_rand 98.48333333333333\n",
            "epoch 10 total_correct_mnist: 59246 total_correct_rand: 59141 loss: 128.0245803433354 accuracy_mnist 98.74333333333334 accuracy_rand 98.56833333333334\n",
            "epoch 11 total_correct_mnist: 59311 total_correct_rand: 59178 loss: 117.41470853524515 accuracy_mnist 98.85166666666667 accuracy_rand 98.63\n",
            "epoch 12 total_correct_mnist: 59347 total_correct_rand: 59238 loss: 108.22958835528698 accuracy_mnist 98.91166666666666 accuracy_rand 98.72999999999999\n",
            "epoch 13 total_correct_mnist: 59403 total_correct_rand: 59288 loss: 105.33640741475392 accuracy_mnist 99.005 accuracy_rand 98.81333333333333\n",
            "epoch 14 total_correct_mnist: 59435 total_correct_rand: 59321 loss: 98.2737891455472 accuracy_mnist 99.05833333333334 accuracy_rand 98.86833333333334\n"
          ],
          "name": "stdout"
        }
      ]
    },
    {
      "cell_type": "code",
      "metadata": {
        "id": "oxHh8-3OaQxN"
      },
      "source": [
        "test_set = MNISTRandAdder(\n",
        "    root='./data'\n",
        "    ,train=False\n",
        "    ,download=True\n",
        "    ,transform=transforms.Compose([\n",
        "        transforms.ToTensor()\n",
        "    ])\n",
        ")\n",
        "\n",
        "\n",
        "\n",
        "test_loader = torch.utils.data.DataLoader(test_set, batch_size=10000)"
      ],
      "execution_count": 32,
      "outputs": []
    },
    {
      "cell_type": "code",
      "metadata": {
        "id": "KGZ6BGgi7mvJ"
      },
      "source": [
        "(mnist_img_t, rand_num_t), (mnist_y_t, adder_y_t) = next(iter(test_loader))"
      ],
      "execution_count": 33,
      "outputs": []
    },
    {
      "cell_type": "code",
      "metadata": {
        "colab": {
          "base_uri": "https://localhost:8080/"
        },
        "id": "CwMJ0t5naQxN",
        "outputId": "13c52947-f03a-4a57-fe05-534374ea95a6"
      },
      "source": [
        "print(rand_num_t.shape)\n",
        "print(mnist_y_t.shape),\n",
        "print(adder_y_t.shape)"
      ],
      "execution_count": 34,
      "outputs": [
        {
          "output_type": "stream",
          "text": [
            "torch.Size([10000])\n",
            "torch.Size([10000])\n",
            "torch.Size([10000])\n"
          ],
          "name": "stdout"
        }
      ]
    },
    {
      "cell_type": "code",
      "metadata": {
        "colab": {
          "base_uri": "https://localhost:8080/"
        },
        "id": "QYE580TQ7jse",
        "outputId": "d23e1b66-a838-47bf-8aed-0254fdc1fa04"
      },
      "source": [
        "mnist_pred_t, adder_pred_t = network(mnist_img_t, rand_num_t)\n",
        "    \n",
        "mnist_pred_correct_t=get_num_correct(mnist_pred_t, mnist_y_t)\n",
        "adder_pred_correct_t=get_num_correct(adder_pred_t, adder_y_t)\n",
        "\n",
        "\n",
        "test_accuracy_mnist_img = mnist_pred_correct_t/ len(test_set)\n",
        "test_accuracy_adder_pred = adder_pred_correct_t/ len(test_set)\n",
        "print(test_accuracy_mnist_img,test_accuracy_adder_pred)"
      ],
      "execution_count": 35,
      "outputs": [
        {
          "output_type": "stream",
          "text": [
            "0.989 0.9885\n"
          ],
          "name": "stdout"
        }
      ]
    },
    {
      "cell_type": "code",
      "metadata": {
        "id": "HPpP0cDAaQxO"
      },
      "source": [
        ""
      ],
      "execution_count": null,
      "outputs": []
    }
  ]
}